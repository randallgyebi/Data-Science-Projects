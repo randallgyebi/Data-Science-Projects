{
  "nbformat": 4,
  "nbformat_minor": 0,
  "metadata": {
    "colab": {
      "name": "Titanic Classification",
      "version": "0.3.2",
      "provenance": [],
      "collapsed_sections": [],
      "include_colab_link": true
    },
    "kernelspec": {
      "name": "python3",
      "display_name": "Python 3"
    },
    "accelerator": "GPU"
  },
  "cells": [
    {
      "cell_type": "markdown",
      "metadata": {
        "id": "view-in-github",
        "colab_type": "text"
      },
      "source": [
        "<a href=\"https://colab.research.google.com/github/randallgyebi/Data-Science-Projects/blob/master/Titanic_Classification.ipynb\" target=\"_parent\"><img src=\"https://colab.research.google.com/assets/colab-badge.svg\" alt=\"Open In Colab\"/></a>"
      ]
    },
    {
      "metadata": {
        "id": "YZj415RplXMR",
        "colab_type": "text"
      },
      "cell_type": "markdown",
      "source": [
        "# Titanic Classification"
      ]
    },
    {
      "metadata": {
        "id": "cYIrk2YslfPW",
        "colab_type": "text"
      },
      "cell_type": "markdown",
      "source": [
        "## Introduction\n",
        "The titanic dataset seems to be the 'Hello World' of machine learning and is a collation of data about the individuals aboard the titanic and their survival.\n",
        "\n",
        "The Titanic was passenger liner that sank in 1912 on the Atlantic ocean on voyage from Southhampton to New York City. Of the 2224 passengers and crew, over 67% passed away making it one of the worst maritime disasters ever.\n",
        "\n",
        "### Problem Frame\n",
        "The objective here is to predict the survival of a passenger when given their details only. The data set is already split by Kaggle and only data cleaning and model training are required.\n",
        "\n",
        "### Performance Measure\n",
        "Seeing as this is a classification problem, percentage accuracy will be a suitable measure of performance on the test set.\n",
        "\n",
        "### Assumption Checks\n",
        "Clarifying deliverables and data "
      ]
    },
    {
      "metadata": {
        "id": "8sPT8PF4EydB",
        "colab_type": "text"
      },
      "cell_type": "markdown",
      "source": [
        "## Data Acquisition \n",
        "For the first step we just download the train and test data from [Kaggle](https://www.kaggle.com/c/titanic/data). "
      ]
    },
    {
      "metadata": {
        "id": "KS4ux1nxE4Gg",
        "colab_type": "text"
      },
      "cell_type": "markdown",
      "source": [
        "### Create Workspace & Tools\n",
        "Now we import the standard ML libraries for basic data wrangling."
      ]
    },
    {
      "metadata": {
        "id": "Q3Fc0FpuFEUd",
        "colab_type": "code",
        "outputId": "d309cfc9-ca30-4cfd-868f-2d14ee750e27",
        "colab": {
          "base_uri": "https://localhost:8080/",
          "height": 34
        }
      },
      "cell_type": "code",
      "source": [
        "import numpy as np\n",
        "import pandas as pd\n",
        "print(\"Complete\")"
      ],
      "execution_count": 1,
      "outputs": [
        {
          "output_type": "stream",
          "text": [
            "Complete\n"
          ],
          "name": "stdout"
        }
      ]
    },
    {
      "metadata": {
        "id": "iGKtZKpBFVQr",
        "colab_type": "text"
      },
      "cell_type": "markdown",
      "source": [
        "### Load Data\n",
        "\n"
      ]
    },
    {
      "metadata": {
        "id": "6r6YAZ3hB_Pr",
        "colab_type": "code",
        "outputId": "51f4464c-9bca-4271-aa94-ed7ce4d717ba",
        "colab": {
          "base_uri": "https://localhost:8080/",
          "height": 122
        }
      },
      "cell_type": "code",
      "source": [
        "from google.colab import drive\n",
        "drive.mount(\"/content/drive\")"
      ],
      "execution_count": 2,
      "outputs": [
        {
          "output_type": "stream",
          "text": [
            "Go to this URL in a browser: https://accounts.google.com/o/oauth2/auth?client_id=947318989803-6bn6qk8qdgf4n4g3pfee6491hc0brc4i.apps.googleusercontent.com&redirect_uri=urn%3Aietf%3Awg%3Aoauth%3A2.0%3Aoob&scope=email%20https%3A%2F%2Fwww.googleapis.com%2Fauth%2Fdocs.test%20https%3A%2F%2Fwww.googleapis.com%2Fauth%2Fdrive%20https%3A%2F%2Fwww.googleapis.com%2Fauth%2Fdrive.photos.readonly%20https%3A%2F%2Fwww.googleapis.com%2Fauth%2Fpeopleapi.readonly&response_type=code\n",
            "\n",
            "Enter your authorization code:\n",
            "··········\n",
            "Mounted at /content/drive\n"
          ],
          "name": "stdout"
        }
      ]
    },
    {
      "metadata": {
        "id": "GILW7yB2D9_E",
        "colab_type": "code",
        "outputId": "4a1a9281-23c2-4c83-a169-48b1fa4aedb8",
        "colab": {
          "base_uri": "https://localhost:8080/",
          "height": 34
        }
      },
      "cell_type": "code",
      "source": [
        "cd drive/My Drive/Developmental/Programming/Data Science/Projects/Kaggle: Titanic Classification\n"
      ],
      "execution_count": 3,
      "outputs": [
        {
          "output_type": "stream",
          "text": [
            "/content/drive/My Drive/Developmental/Programming/Data Science/Projects/Kaggle: Titanic Classification\n"
          ],
          "name": "stdout"
        }
      ]
    },
    {
      "metadata": {
        "id": "5RLe7aV7FtKx",
        "colab_type": "code",
        "outputId": "fd2ce0a1-04cf-4eda-f914-49c22322fae5",
        "colab": {
          "base_uri": "https://localhost:8080/",
          "height": 34
        }
      },
      "cell_type": "code",
      "source": [
        "\n",
        "train_set = pd.read_csv(\"train.csv\")\n",
        "test_set = pd.read_csv(\"test.csv\")\n",
        "print (\"Data Loaded\")"
      ],
      "execution_count": 4,
      "outputs": [
        {
          "output_type": "stream",
          "text": [
            "Data Loaded\n"
          ],
          "name": "stdout"
        }
      ]
    },
    {
      "metadata": {
        "id": "BEHa-bgOR8Jr",
        "colab_type": "code",
        "outputId": "0d5a7001-7d0b-4904-845d-4ac695a57e54",
        "colab": {
          "base_uri": "https://localhost:8080/",
          "height": 204
        }
      },
      "cell_type": "code",
      "source": [
        "test_set.head()"
      ],
      "execution_count": 5,
      "outputs": [
        {
          "output_type": "execute_result",
          "data": {
            "text/html": [
              "<div>\n",
              "<style scoped>\n",
              "    .dataframe tbody tr th:only-of-type {\n",
              "        vertical-align: middle;\n",
              "    }\n",
              "\n",
              "    .dataframe tbody tr th {\n",
              "        vertical-align: top;\n",
              "    }\n",
              "\n",
              "    .dataframe thead th {\n",
              "        text-align: right;\n",
              "    }\n",
              "</style>\n",
              "<table border=\"1\" class=\"dataframe\">\n",
              "  <thead>\n",
              "    <tr style=\"text-align: right;\">\n",
              "      <th></th>\n",
              "      <th>PassengerId</th>\n",
              "      <th>Pclass</th>\n",
              "      <th>Name</th>\n",
              "      <th>Sex</th>\n",
              "      <th>Age</th>\n",
              "      <th>SibSp</th>\n",
              "      <th>Parch</th>\n",
              "      <th>Ticket</th>\n",
              "      <th>Fare</th>\n",
              "      <th>Cabin</th>\n",
              "      <th>Embarked</th>\n",
              "    </tr>\n",
              "  </thead>\n",
              "  <tbody>\n",
              "    <tr>\n",
              "      <th>0</th>\n",
              "      <td>892</td>\n",
              "      <td>3</td>\n",
              "      <td>Kelly, Mr. James</td>\n",
              "      <td>male</td>\n",
              "      <td>34.5</td>\n",
              "      <td>0</td>\n",
              "      <td>0</td>\n",
              "      <td>330911</td>\n",
              "      <td>7.8292</td>\n",
              "      <td>NaN</td>\n",
              "      <td>Q</td>\n",
              "    </tr>\n",
              "    <tr>\n",
              "      <th>1</th>\n",
              "      <td>893</td>\n",
              "      <td>3</td>\n",
              "      <td>Wilkes, Mrs. James (Ellen Needs)</td>\n",
              "      <td>female</td>\n",
              "      <td>47.0</td>\n",
              "      <td>1</td>\n",
              "      <td>0</td>\n",
              "      <td>363272</td>\n",
              "      <td>7.0000</td>\n",
              "      <td>NaN</td>\n",
              "      <td>S</td>\n",
              "    </tr>\n",
              "    <tr>\n",
              "      <th>2</th>\n",
              "      <td>894</td>\n",
              "      <td>2</td>\n",
              "      <td>Myles, Mr. Thomas Francis</td>\n",
              "      <td>male</td>\n",
              "      <td>62.0</td>\n",
              "      <td>0</td>\n",
              "      <td>0</td>\n",
              "      <td>240276</td>\n",
              "      <td>9.6875</td>\n",
              "      <td>NaN</td>\n",
              "      <td>Q</td>\n",
              "    </tr>\n",
              "    <tr>\n",
              "      <th>3</th>\n",
              "      <td>895</td>\n",
              "      <td>3</td>\n",
              "      <td>Wirz, Mr. Albert</td>\n",
              "      <td>male</td>\n",
              "      <td>27.0</td>\n",
              "      <td>0</td>\n",
              "      <td>0</td>\n",
              "      <td>315154</td>\n",
              "      <td>8.6625</td>\n",
              "      <td>NaN</td>\n",
              "      <td>S</td>\n",
              "    </tr>\n",
              "    <tr>\n",
              "      <th>4</th>\n",
              "      <td>896</td>\n",
              "      <td>3</td>\n",
              "      <td>Hirvonen, Mrs. Alexander (Helga E Lindqvist)</td>\n",
              "      <td>female</td>\n",
              "      <td>22.0</td>\n",
              "      <td>1</td>\n",
              "      <td>1</td>\n",
              "      <td>3101298</td>\n",
              "      <td>12.2875</td>\n",
              "      <td>NaN</td>\n",
              "      <td>S</td>\n",
              "    </tr>\n",
              "  </tbody>\n",
              "</table>\n",
              "</div>"
            ],
            "text/plain": [
              "   PassengerId  Pclass                                          Name     Sex  \\\n",
              "0          892       3                              Kelly, Mr. James    male   \n",
              "1          893       3              Wilkes, Mrs. James (Ellen Needs)  female   \n",
              "2          894       2                     Myles, Mr. Thomas Francis    male   \n",
              "3          895       3                              Wirz, Mr. Albert    male   \n",
              "4          896       3  Hirvonen, Mrs. Alexander (Helga E Lindqvist)  female   \n",
              "\n",
              "    Age  SibSp  Parch   Ticket     Fare Cabin Embarked  \n",
              "0  34.5      0      0   330911   7.8292   NaN        Q  \n",
              "1  47.0      1      0   363272   7.0000   NaN        S  \n",
              "2  62.0      0      0   240276   9.6875   NaN        Q  \n",
              "3  27.0      0      0   315154   8.6625   NaN        S  \n",
              "4  22.0      1      1  3101298  12.2875   NaN        S  "
            ]
          },
          "metadata": {
            "tags": []
          },
          "execution_count": 5
        }
      ]
    },
    {
      "metadata": {
        "id": "kvvaNS30W2Al",
        "colab_type": "text"
      },
      "cell_type": "markdown",
      "source": [
        "## Data Manipulation\n",
        "\n"
      ]
    },
    {
      "metadata": {
        "id": "dH2MyUbtE4qe",
        "colab_type": "text"
      },
      "cell_type": "markdown",
      "source": [
        "\n",
        "### Data Check\n"
      ]
    },
    {
      "metadata": {
        "id": "bk--K5hVJNzs",
        "colab_type": "code",
        "outputId": "11acc2e9-8333-4721-9d2e-7625e1aa4851",
        "colab": {
          "base_uri": "https://localhost:8080/",
          "height": 297
        }
      },
      "cell_type": "code",
      "source": [
        "train_set.describe()"
      ],
      "execution_count": 6,
      "outputs": [
        {
          "output_type": "execute_result",
          "data": {
            "text/html": [
              "<div>\n",
              "<style scoped>\n",
              "    .dataframe tbody tr th:only-of-type {\n",
              "        vertical-align: middle;\n",
              "    }\n",
              "\n",
              "    .dataframe tbody tr th {\n",
              "        vertical-align: top;\n",
              "    }\n",
              "\n",
              "    .dataframe thead th {\n",
              "        text-align: right;\n",
              "    }\n",
              "</style>\n",
              "<table border=\"1\" class=\"dataframe\">\n",
              "  <thead>\n",
              "    <tr style=\"text-align: right;\">\n",
              "      <th></th>\n",
              "      <th>PassengerId</th>\n",
              "      <th>Survived</th>\n",
              "      <th>Pclass</th>\n",
              "      <th>Age</th>\n",
              "      <th>SibSp</th>\n",
              "      <th>Parch</th>\n",
              "      <th>Fare</th>\n",
              "    </tr>\n",
              "  </thead>\n",
              "  <tbody>\n",
              "    <tr>\n",
              "      <th>count</th>\n",
              "      <td>891.000000</td>\n",
              "      <td>891.000000</td>\n",
              "      <td>891.000000</td>\n",
              "      <td>714.000000</td>\n",
              "      <td>891.000000</td>\n",
              "      <td>891.000000</td>\n",
              "      <td>891.000000</td>\n",
              "    </tr>\n",
              "    <tr>\n",
              "      <th>mean</th>\n",
              "      <td>446.000000</td>\n",
              "      <td>0.383838</td>\n",
              "      <td>2.308642</td>\n",
              "      <td>29.699118</td>\n",
              "      <td>0.523008</td>\n",
              "      <td>0.381594</td>\n",
              "      <td>32.204208</td>\n",
              "    </tr>\n",
              "    <tr>\n",
              "      <th>std</th>\n",
              "      <td>257.353842</td>\n",
              "      <td>0.486592</td>\n",
              "      <td>0.836071</td>\n",
              "      <td>14.526497</td>\n",
              "      <td>1.102743</td>\n",
              "      <td>0.806057</td>\n",
              "      <td>49.693429</td>\n",
              "    </tr>\n",
              "    <tr>\n",
              "      <th>min</th>\n",
              "      <td>1.000000</td>\n",
              "      <td>0.000000</td>\n",
              "      <td>1.000000</td>\n",
              "      <td>0.420000</td>\n",
              "      <td>0.000000</td>\n",
              "      <td>0.000000</td>\n",
              "      <td>0.000000</td>\n",
              "    </tr>\n",
              "    <tr>\n",
              "      <th>25%</th>\n",
              "      <td>223.500000</td>\n",
              "      <td>0.000000</td>\n",
              "      <td>2.000000</td>\n",
              "      <td>20.125000</td>\n",
              "      <td>0.000000</td>\n",
              "      <td>0.000000</td>\n",
              "      <td>7.910400</td>\n",
              "    </tr>\n",
              "    <tr>\n",
              "      <th>50%</th>\n",
              "      <td>446.000000</td>\n",
              "      <td>0.000000</td>\n",
              "      <td>3.000000</td>\n",
              "      <td>28.000000</td>\n",
              "      <td>0.000000</td>\n",
              "      <td>0.000000</td>\n",
              "      <td>14.454200</td>\n",
              "    </tr>\n",
              "    <tr>\n",
              "      <th>75%</th>\n",
              "      <td>668.500000</td>\n",
              "      <td>1.000000</td>\n",
              "      <td>3.000000</td>\n",
              "      <td>38.000000</td>\n",
              "      <td>1.000000</td>\n",
              "      <td>0.000000</td>\n",
              "      <td>31.000000</td>\n",
              "    </tr>\n",
              "    <tr>\n",
              "      <th>max</th>\n",
              "      <td>891.000000</td>\n",
              "      <td>1.000000</td>\n",
              "      <td>3.000000</td>\n",
              "      <td>80.000000</td>\n",
              "      <td>8.000000</td>\n",
              "      <td>6.000000</td>\n",
              "      <td>512.329200</td>\n",
              "    </tr>\n",
              "  </tbody>\n",
              "</table>\n",
              "</div>"
            ],
            "text/plain": [
              "       PassengerId    Survived      Pclass         Age       SibSp  \\\n",
              "count   891.000000  891.000000  891.000000  714.000000  891.000000   \n",
              "mean    446.000000    0.383838    2.308642   29.699118    0.523008   \n",
              "std     257.353842    0.486592    0.836071   14.526497    1.102743   \n",
              "min       1.000000    0.000000    1.000000    0.420000    0.000000   \n",
              "25%     223.500000    0.000000    2.000000   20.125000    0.000000   \n",
              "50%     446.000000    0.000000    3.000000   28.000000    0.000000   \n",
              "75%     668.500000    1.000000    3.000000   38.000000    1.000000   \n",
              "max     891.000000    1.000000    3.000000   80.000000    8.000000   \n",
              "\n",
              "            Parch        Fare  \n",
              "count  891.000000  891.000000  \n",
              "mean     0.381594   32.204208  \n",
              "std      0.806057   49.693429  \n",
              "min      0.000000    0.000000  \n",
              "25%      0.000000    7.910400  \n",
              "50%      0.000000   14.454200  \n",
              "75%      0.000000   31.000000  \n",
              "max      6.000000  512.329200  "
            ]
          },
          "metadata": {
            "tags": []
          },
          "execution_count": 6
        }
      ]
    },
    {
      "metadata": {
        "id": "xuXTex4wJLz_",
        "colab_type": "text"
      },
      "cell_type": "markdown",
      "source": [
        "From the describe we can already start to get some insight into the demographic of the passengers.\n",
        "\n",
        "The 50th percentile for 'Passenger Class' is 3rd class, indicating that a majority of passengers were 3rd class passengers. \n",
        "\n",
        "A mean age of 30 and 75 percentile of 38 years old means the ages are skewed to the younger ages (>40) and fits with the life expencancy in the early 1900s (40 years). It can also be seen that most people did not have a sibling or parent (SibSp 75% = 1, ParCh 75% = 0 ).\n",
        "\n",
        "With a mean of £32 and 75 percentile of £31, we can see that the top 25% paid the total of the bottom 75% therefore the wealth distrubution seems to skew toward a select few."
      ]
    },
    {
      "metadata": {
        "id": "Gv2daviTFxen",
        "colab_type": "text"
      },
      "cell_type": "markdown",
      "source": [
        "Now to check the nature of the dataset."
      ]
    },
    {
      "metadata": {
        "id": "J78jrzAOEwTh",
        "colab_type": "code",
        "outputId": "38d2caac-9609-4adb-8c5b-fc9473677610",
        "colab": {
          "base_uri": "https://localhost:8080/",
          "height": 204
        }
      },
      "cell_type": "code",
      "source": [
        "train_set.head()"
      ],
      "execution_count": 7,
      "outputs": [
        {
          "output_type": "execute_result",
          "data": {
            "text/html": [
              "<div>\n",
              "<style scoped>\n",
              "    .dataframe tbody tr th:only-of-type {\n",
              "        vertical-align: middle;\n",
              "    }\n",
              "\n",
              "    .dataframe tbody tr th {\n",
              "        vertical-align: top;\n",
              "    }\n",
              "\n",
              "    .dataframe thead th {\n",
              "        text-align: right;\n",
              "    }\n",
              "</style>\n",
              "<table border=\"1\" class=\"dataframe\">\n",
              "  <thead>\n",
              "    <tr style=\"text-align: right;\">\n",
              "      <th></th>\n",
              "      <th>PassengerId</th>\n",
              "      <th>Survived</th>\n",
              "      <th>Pclass</th>\n",
              "      <th>Name</th>\n",
              "      <th>Sex</th>\n",
              "      <th>Age</th>\n",
              "      <th>SibSp</th>\n",
              "      <th>Parch</th>\n",
              "      <th>Ticket</th>\n",
              "      <th>Fare</th>\n",
              "      <th>Cabin</th>\n",
              "      <th>Embarked</th>\n",
              "    </tr>\n",
              "  </thead>\n",
              "  <tbody>\n",
              "    <tr>\n",
              "      <th>0</th>\n",
              "      <td>1</td>\n",
              "      <td>0</td>\n",
              "      <td>3</td>\n",
              "      <td>Braund, Mr. Owen Harris</td>\n",
              "      <td>male</td>\n",
              "      <td>22.0</td>\n",
              "      <td>1</td>\n",
              "      <td>0</td>\n",
              "      <td>A/5 21171</td>\n",
              "      <td>7.2500</td>\n",
              "      <td>NaN</td>\n",
              "      <td>S</td>\n",
              "    </tr>\n",
              "    <tr>\n",
              "      <th>1</th>\n",
              "      <td>2</td>\n",
              "      <td>1</td>\n",
              "      <td>1</td>\n",
              "      <td>Cumings, Mrs. John Bradley (Florence Briggs Th...</td>\n",
              "      <td>female</td>\n",
              "      <td>38.0</td>\n",
              "      <td>1</td>\n",
              "      <td>0</td>\n",
              "      <td>PC 17599</td>\n",
              "      <td>71.2833</td>\n",
              "      <td>C85</td>\n",
              "      <td>C</td>\n",
              "    </tr>\n",
              "    <tr>\n",
              "      <th>2</th>\n",
              "      <td>3</td>\n",
              "      <td>1</td>\n",
              "      <td>3</td>\n",
              "      <td>Heikkinen, Miss. Laina</td>\n",
              "      <td>female</td>\n",
              "      <td>26.0</td>\n",
              "      <td>0</td>\n",
              "      <td>0</td>\n",
              "      <td>STON/O2. 3101282</td>\n",
              "      <td>7.9250</td>\n",
              "      <td>NaN</td>\n",
              "      <td>S</td>\n",
              "    </tr>\n",
              "    <tr>\n",
              "      <th>3</th>\n",
              "      <td>4</td>\n",
              "      <td>1</td>\n",
              "      <td>1</td>\n",
              "      <td>Futrelle, Mrs. Jacques Heath (Lily May Peel)</td>\n",
              "      <td>female</td>\n",
              "      <td>35.0</td>\n",
              "      <td>1</td>\n",
              "      <td>0</td>\n",
              "      <td>113803</td>\n",
              "      <td>53.1000</td>\n",
              "      <td>C123</td>\n",
              "      <td>S</td>\n",
              "    </tr>\n",
              "    <tr>\n",
              "      <th>4</th>\n",
              "      <td>5</td>\n",
              "      <td>0</td>\n",
              "      <td>3</td>\n",
              "      <td>Allen, Mr. William Henry</td>\n",
              "      <td>male</td>\n",
              "      <td>35.0</td>\n",
              "      <td>0</td>\n",
              "      <td>0</td>\n",
              "      <td>373450</td>\n",
              "      <td>8.0500</td>\n",
              "      <td>NaN</td>\n",
              "      <td>S</td>\n",
              "    </tr>\n",
              "  </tbody>\n",
              "</table>\n",
              "</div>"
            ],
            "text/plain": [
              "   PassengerId  Survived  Pclass  \\\n",
              "0            1         0       3   \n",
              "1            2         1       1   \n",
              "2            3         1       3   \n",
              "3            4         1       1   \n",
              "4            5         0       3   \n",
              "\n",
              "                                                Name     Sex   Age  SibSp  \\\n",
              "0                            Braund, Mr. Owen Harris    male  22.0      1   \n",
              "1  Cumings, Mrs. John Bradley (Florence Briggs Th...  female  38.0      1   \n",
              "2                             Heikkinen, Miss. Laina  female  26.0      0   \n",
              "3       Futrelle, Mrs. Jacques Heath (Lily May Peel)  female  35.0      1   \n",
              "4                           Allen, Mr. William Henry    male  35.0      0   \n",
              "\n",
              "   Parch            Ticket     Fare Cabin Embarked  \n",
              "0      0         A/5 21171   7.2500   NaN        S  \n",
              "1      0          PC 17599  71.2833   C85        C  \n",
              "2      0  STON/O2. 3101282   7.9250   NaN        S  \n",
              "3      0            113803  53.1000  C123        S  \n",
              "4      0            373450   8.0500   NaN        S  "
            ]
          },
          "metadata": {
            "tags": []
          },
          "execution_count": 7
        }
      ]
    },
    {
      "metadata": {
        "id": "J08YOR3F8-Gr",
        "colab_type": "text"
      },
      "cell_type": "markdown",
      "source": [
        "Each row represents a passenger and their details in the 12 columns. \"Sex\", \"Ticket\", \"Cabin\" and 'Embarked' are all string type and transforming them into numerical representation or one-hot encoded would be more appropriate for training our model. The variety of inputs or each attribute will determine if one-hot encodes will be an efficient solution."
      ]
    },
    {
      "metadata": {
        "id": "N2aXwsOTGANA",
        "colab_type": "code",
        "outputId": "4a3fef38-75f0-4970-a869-e62571b12172",
        "colab": {
          "base_uri": "https://localhost:8080/",
          "height": 68
        }
      },
      "cell_type": "code",
      "source": [
        "train_set[\"Sex\"].value_counts()"
      ],
      "execution_count": 8,
      "outputs": [
        {
          "output_type": "execute_result",
          "data": {
            "text/plain": [
              "male      577\n",
              "female    314\n",
              "Name: Sex, dtype: int64"
            ]
          },
          "metadata": {
            "tags": []
          },
          "execution_count": 8
        }
      ]
    },
    {
      "metadata": {
        "id": "1ppeeza5GiE-",
        "colab_type": "code",
        "outputId": "3f444895-bfc0-4187-bec2-652e0868220d",
        "colab": {
          "base_uri": "https://localhost:8080/",
          "height": 85
        }
      },
      "cell_type": "code",
      "source": [
        "train_set[\"Embarked\"].value_counts()"
      ],
      "execution_count": 9,
      "outputs": [
        {
          "output_type": "execute_result",
          "data": {
            "text/plain": [
              "S    644\n",
              "C    168\n",
              "Q     77\n",
              "Name: Embarked, dtype: int64"
            ]
          },
          "metadata": {
            "tags": []
          },
          "execution_count": 9
        }
      ]
    },
    {
      "metadata": {
        "id": "fkYAb5AOGj6t",
        "colab_type": "text"
      },
      "cell_type": "markdown",
      "source": [
        "\"Sex\" and '\"Embarked\" only have 2 and 3 categories respectively and one-hot encoding can be a viable numerical representation of this attribute."
      ]
    },
    {
      "metadata": {
        "id": "o-0xhH2QEut6",
        "colab_type": "code",
        "outputId": "33cc3942-1ae6-411c-b62b-5452dee7f775",
        "colab": {
          "base_uri": "https://localhost:8080/",
          "height": 1071
        }
      },
      "cell_type": "code",
      "source": [
        "train_set[\"Cabin\"].value_counts()"
      ],
      "execution_count": 10,
      "outputs": [
        {
          "output_type": "execute_result",
          "data": {
            "text/plain": [
              "G6                 4\n",
              "C23 C25 C27        4\n",
              "B96 B98            4\n",
              "F33                3\n",
              "E101               3\n",
              "C22 C26            3\n",
              "D                  3\n",
              "F2                 3\n",
              "D17                2\n",
              "C2                 2\n",
              "E121               2\n",
              "C78                2\n",
              "E33                2\n",
              "C65                2\n",
              "B22                2\n",
              "C126               2\n",
              "B57 B59 B63 B66    2\n",
              "E8                 2\n",
              "F4                 2\n",
              "D33                2\n",
              "C83                2\n",
              "B77                2\n",
              "B35                2\n",
              "B20                2\n",
              "D36                2\n",
              "E67                2\n",
              "D26                2\n",
              "D35                2\n",
              "C125               2\n",
              "B18                2\n",
              "                  ..\n",
              "D50                1\n",
              "A20                1\n",
              "C118               1\n",
              "B19                1\n",
              "A14                1\n",
              "B82 B84            1\n",
              "B38                1\n",
              "A10                1\n",
              "C87                1\n",
              "B50                1\n",
              "T                  1\n",
              "C46                1\n",
              "C148               1\n",
              "E49                1\n",
              "A19                1\n",
              "C85                1\n",
              "C49                1\n",
              "A26                1\n",
              "D6                 1\n",
              "D11                1\n",
              "A16                1\n",
              "D47                1\n",
              "C45                1\n",
              "C90                1\n",
              "E46                1\n",
              "E40                1\n",
              "A23                1\n",
              "E17                1\n",
              "B39                1\n",
              "E36                1\n",
              "Name: Cabin, Length: 147, dtype: int64"
            ]
          },
          "metadata": {
            "tags": []
          },
          "execution_count": 10
        }
      ]
    },
    {
      "metadata": {
        "id": "pCPikwdODaAk",
        "colab_type": "code",
        "outputId": "324ac843-817d-4d49-9184-8e5b76a8914e",
        "colab": {
          "base_uri": "https://localhost:8080/",
          "height": 1071
        }
      },
      "cell_type": "code",
      "source": [
        "train_set[\"Ticket\"].value_counts()"
      ],
      "execution_count": 11,
      "outputs": [
        {
          "output_type": "execute_result",
          "data": {
            "text/plain": [
              "1601                  7\n",
              "347082                7\n",
              "CA. 2343              7\n",
              "3101295               6\n",
              "CA 2144               6\n",
              "347088                6\n",
              "382652                5\n",
              "S.O.C. 14879          5\n",
              "113760                4\n",
              "19950                 4\n",
              "17421                 4\n",
              "347077                4\n",
              "W./C. 6608            4\n",
              "2666                  4\n",
              "LINE                  4\n",
              "PC 17757              4\n",
              "349909                4\n",
              "113781                4\n",
              "4133                  4\n",
              "248727                3\n",
              "PC 17760              3\n",
              "F.C.C. 13529          3\n",
              "239853                3\n",
              "SC/Paris 2123         3\n",
              "371110                3\n",
              "35273                 3\n",
              "29106                 3\n",
              "PC 17572              3\n",
              "24160                 3\n",
              "13502                 3\n",
              "                     ..\n",
              "349251                1\n",
              "367655                1\n",
              "335097                1\n",
              "PC 17476              1\n",
              "349201                1\n",
              "370369                1\n",
              "364498                1\n",
              "28213                 1\n",
              "31418                 1\n",
              "PC 17483              1\n",
              "4136                  1\n",
              "3101298               1\n",
              "250648                1\n",
              "F.C. 12750            1\n",
              "A/5. 2151             1\n",
              "349252                1\n",
              "7552                  1\n",
              "14973                 1\n",
              "113773                1\n",
              "350042                1\n",
              "237671                1\n",
              "330931                1\n",
              "PC 17592              1\n",
              "SOTON/O.Q. 3101312    1\n",
              "111320                1\n",
              "2680                  1\n",
              "SCO/W 1585            1\n",
              "2689                  1\n",
              "2626                  1\n",
              "SOTON/OQ 392089       1\n",
              "Name: Ticket, Length: 681, dtype: int64"
            ]
          },
          "metadata": {
            "tags": []
          },
          "execution_count": 11
        }
      ]
    },
    {
      "metadata": {
        "id": "Kt1sF8SpEdC6",
        "colab_type": "text"
      },
      "cell_type": "markdown",
      "source": [
        "As a categorical attribute, \"Ticket\" and \"Cabin\" contains too many inputs to be one-hot encoded individually as a dense matrix will slow runtimes when training. However, a **sparse matrix** may be an option to explore.\n",
        "\n",
        "Another option may be to **parse the first letter of the \"Cabin\"** and encode that. The \"Ticket\" attribute, on the other hand, doesn't seem to have any pattern to it and this may even introduce some noise into the analysis. Therein the **\"Ticket\" will be dropped**. \n",
        "\n",
        "\n",
        "### Data Preparation\n",
        "Now we will create some custom transformers to be used on both the training and test datasets but before we start manipulating the data, Ill make a copy of the train data."
      ]
    },
    {
      "metadata": {
        "id": "C4eQQ5LDaLKt",
        "colab_type": "code",
        "colab": {}
      },
      "cell_type": "code",
      "source": [
        "train_cleaning = train_set.copy(deep=True)"
      ],
      "execution_count": 0,
      "outputs": []
    },
    {
      "metadata": {
        "id": "cRqdu9RaXtNs",
        "colab_type": "text"
      },
      "cell_type": "markdown",
      "source": [
        "### Data Completion"
      ]
    },
    {
      "metadata": {
        "id": "HZhQIJKIGh3c",
        "colab_type": "code",
        "outputId": "8dd10d03-6dc0-413d-fdb5-fc6b27b31197",
        "colab": {
          "base_uri": "https://localhost:8080/",
          "height": 306
        }
      },
      "cell_type": "code",
      "source": [
        "train_cleaning.info()"
      ],
      "execution_count": 13,
      "outputs": [
        {
          "output_type": "stream",
          "text": [
            "<class 'pandas.core.frame.DataFrame'>\n",
            "RangeIndex: 891 entries, 0 to 890\n",
            "Data columns (total 12 columns):\n",
            "PassengerId    891 non-null int64\n",
            "Survived       891 non-null int64\n",
            "Pclass         891 non-null int64\n",
            "Name           891 non-null object\n",
            "Sex            891 non-null object\n",
            "Age            714 non-null float64\n",
            "SibSp          891 non-null int64\n",
            "Parch          891 non-null int64\n",
            "Ticket         891 non-null object\n",
            "Fare           891 non-null float64\n",
            "Cabin          204 non-null object\n",
            "Embarked       889 non-null object\n",
            "dtypes: float64(2), int64(5), object(5)\n",
            "memory usage: 83.6+ KB\n"
          ],
          "name": "stdout"
        }
      ]
    },
    {
      "metadata": {
        "id": "gG5YJm53BfUC",
        "colab_type": "text"
      },
      "cell_type": "markdown",
      "source": [
        "With 891 entries, this data set is relatively small for machine learning standards. \"Age\", \"Cabin\" and \"Embarked\" all have null columns and the effect of this missing data and how to mitigate errors will have to be examined. \"Cabin\" is missing <77% of its data and the efficiacy of this feature will have to be examed.\n",
        "\n",
        "For now we will fill the \"Age\" Nulls will be filled with the average, \"Embarked\" will be filled with the mode and \"Fare\" will be filled with median.\n",
        "\n",
        "We will also drop the \"PassengerID\", \"Name\" and \"Ticket\"."
      ]
    },
    {
      "metadata": {
        "id": "3SzYTWcZZY9E",
        "colab_type": "code",
        "outputId": "f06d89bd-a7a4-4eac-c9c1-f0455f3d9454",
        "colab": {
          "base_uri": "https://localhost:8080/",
          "height": 34
        }
      },
      "cell_type": "code",
      "source": [
        "train_cleaning[\"Age\"].fillna(train_cleaning[\"Age\"].mean(), inplace=True)\n",
        "\n",
        "train_cleaning[\"Embarked\"].fillna(train_cleaning[\"Embarked\"].mode()[0], inplace=True)\n",
        "\n",
        "train_cleaning[\"Fare\"].fillna(train_cleaning[\"Fare\"].median(), inplace=True)\n",
        "\n",
        "train_cleaning.drop(columns=[\"PassengerId\", \"Name\", \"Ticket\", \"Cabin\"], inplace=True)\n",
        "\n",
        "\n",
        "\n",
        "print(\"Nulls filled and columns dropped\")\n"
      ],
      "execution_count": 14,
      "outputs": [
        {
          "output_type": "stream",
          "text": [
            "Nulls filled and columns dropped\n"
          ],
          "name": "stdout"
        }
      ]
    },
    {
      "metadata": {
        "id": "FeCl_DnCXAnw",
        "colab_type": "text"
      },
      "cell_type": "markdown",
      "source": [
        "### Data Correcting\n",
        "Although there are some values that are much above the average, these are not outliers per se and may be essential to some underlying relation. For this reason corrcting for outliers will be skipped for the dataset."
      ]
    },
    {
      "metadata": {
        "id": "nh9oiE5JWqgk",
        "colab_type": "text"
      },
      "cell_type": "markdown",
      "source": [
        "### Feature Engineering\n",
        "No apparent feature engineeing or attribute creation which will greatlyincrease accurary is immediately apparent and may be considered later.\n",
        "\n",
        "### Feature Convertion \n",
        "Now we convert the categorical data into numerical."
      ]
    },
    {
      "metadata": {
        "id": "ZIxYu1oQLK3o",
        "colab_type": "code",
        "outputId": "6df7877b-69be-4e4b-de0b-ed73e2efe2ac",
        "colab": {
          "base_uri": "https://localhost:8080/",
          "height": 204
        }
      },
      "cell_type": "code",
      "source": [
        "from sklearn.preprocessing import LabelEncoder\n",
        "\n",
        "label = LabelEncoder()\n",
        "\n",
        "train_cleaning['Embarked_Code'] = label.fit_transform(train_cleaning['Embarked'])\n",
        "\n",
        "\n",
        "train_clean = pd.get_dummies(train_cleaning)\n",
        "train_clean.drop([\"Embarked_Code\"], 1)\n",
        "train_clean.head()"
      ],
      "execution_count": 15,
      "outputs": [
        {
          "output_type": "execute_result",
          "data": {
            "text/html": [
              "<div>\n",
              "<style scoped>\n",
              "    .dataframe tbody tr th:only-of-type {\n",
              "        vertical-align: middle;\n",
              "    }\n",
              "\n",
              "    .dataframe tbody tr th {\n",
              "        vertical-align: top;\n",
              "    }\n",
              "\n",
              "    .dataframe thead th {\n",
              "        text-align: right;\n",
              "    }\n",
              "</style>\n",
              "<table border=\"1\" class=\"dataframe\">\n",
              "  <thead>\n",
              "    <tr style=\"text-align: right;\">\n",
              "      <th></th>\n",
              "      <th>Survived</th>\n",
              "      <th>Pclass</th>\n",
              "      <th>Age</th>\n",
              "      <th>SibSp</th>\n",
              "      <th>Parch</th>\n",
              "      <th>Fare</th>\n",
              "      <th>Embarked_Code</th>\n",
              "      <th>Sex_female</th>\n",
              "      <th>Sex_male</th>\n",
              "      <th>Embarked_C</th>\n",
              "      <th>Embarked_Q</th>\n",
              "      <th>Embarked_S</th>\n",
              "    </tr>\n",
              "  </thead>\n",
              "  <tbody>\n",
              "    <tr>\n",
              "      <th>0</th>\n",
              "      <td>0</td>\n",
              "      <td>3</td>\n",
              "      <td>22.0</td>\n",
              "      <td>1</td>\n",
              "      <td>0</td>\n",
              "      <td>7.2500</td>\n",
              "      <td>2</td>\n",
              "      <td>0</td>\n",
              "      <td>1</td>\n",
              "      <td>0</td>\n",
              "      <td>0</td>\n",
              "      <td>1</td>\n",
              "    </tr>\n",
              "    <tr>\n",
              "      <th>1</th>\n",
              "      <td>1</td>\n",
              "      <td>1</td>\n",
              "      <td>38.0</td>\n",
              "      <td>1</td>\n",
              "      <td>0</td>\n",
              "      <td>71.2833</td>\n",
              "      <td>0</td>\n",
              "      <td>1</td>\n",
              "      <td>0</td>\n",
              "      <td>1</td>\n",
              "      <td>0</td>\n",
              "      <td>0</td>\n",
              "    </tr>\n",
              "    <tr>\n",
              "      <th>2</th>\n",
              "      <td>1</td>\n",
              "      <td>3</td>\n",
              "      <td>26.0</td>\n",
              "      <td>0</td>\n",
              "      <td>0</td>\n",
              "      <td>7.9250</td>\n",
              "      <td>2</td>\n",
              "      <td>1</td>\n",
              "      <td>0</td>\n",
              "      <td>0</td>\n",
              "      <td>0</td>\n",
              "      <td>1</td>\n",
              "    </tr>\n",
              "    <tr>\n",
              "      <th>3</th>\n",
              "      <td>1</td>\n",
              "      <td>1</td>\n",
              "      <td>35.0</td>\n",
              "      <td>1</td>\n",
              "      <td>0</td>\n",
              "      <td>53.1000</td>\n",
              "      <td>2</td>\n",
              "      <td>1</td>\n",
              "      <td>0</td>\n",
              "      <td>0</td>\n",
              "      <td>0</td>\n",
              "      <td>1</td>\n",
              "    </tr>\n",
              "    <tr>\n",
              "      <th>4</th>\n",
              "      <td>0</td>\n",
              "      <td>3</td>\n",
              "      <td>35.0</td>\n",
              "      <td>0</td>\n",
              "      <td>0</td>\n",
              "      <td>8.0500</td>\n",
              "      <td>2</td>\n",
              "      <td>0</td>\n",
              "      <td>1</td>\n",
              "      <td>0</td>\n",
              "      <td>0</td>\n",
              "      <td>1</td>\n",
              "    </tr>\n",
              "  </tbody>\n",
              "</table>\n",
              "</div>"
            ],
            "text/plain": [
              "   Survived  Pclass   Age  SibSp  Parch     Fare  Embarked_Code  Sex_female  \\\n",
              "0         0       3  22.0      1      0   7.2500              2           0   \n",
              "1         1       1  38.0      1      0  71.2833              0           1   \n",
              "2         1       3  26.0      0      0   7.9250              2           1   \n",
              "3         1       1  35.0      1      0  53.1000              2           1   \n",
              "4         0       3  35.0      0      0   8.0500              2           0   \n",
              "\n",
              "   Sex_male  Embarked_C  Embarked_Q  Embarked_S  \n",
              "0         1           0           0           1  \n",
              "1         0           1           0           0  \n",
              "2         0           0           0           1  \n",
              "3         0           0           0           1  \n",
              "4         1           0           0           1  "
            ]
          },
          "metadata": {
            "tags": []
          },
          "execution_count": 15
        }
      ]
    },
    {
      "metadata": {
        "id": "sl2S1kPzl-hm",
        "colab_type": "text"
      },
      "cell_type": "markdown",
      "source": [
        "## Data Exploration & Visualisation\n",
        "### Data Visualisation"
      ]
    },
    {
      "metadata": {
        "id": "MBYMOjauOMSw",
        "colab_type": "code",
        "outputId": "e055c1b0-dba7-454d-f08d-b4d4c2f6db62",
        "colab": {
          "base_uri": "https://localhost:8080/",
          "height": 1100
        }
      },
      "cell_type": "code",
      "source": [
        "%matplotlib inline\n",
        "import matplotlib.pyplot as plt\n",
        "train_clean.hist(bins=50, figsize=(20,15))\n"
      ],
      "execution_count": 16,
      "outputs": [
        {
          "output_type": "execute_result",
          "data": {
            "text/plain": [
              "array([[<matplotlib.axes._subplots.AxesSubplot object at 0x7f14c4f89e80>,\n",
              "        <matplotlib.axes._subplots.AxesSubplot object at 0x7f14c4a59048>,\n",
              "        <matplotlib.axes._subplots.AxesSubplot object at 0x7f14c4a002b0>],\n",
              "       [<matplotlib.axes._subplots.AxesSubplot object at 0x7f14c4a275c0>,\n",
              "        <matplotlib.axes._subplots.AxesSubplot object at 0x7f14c49d1b38>,\n",
              "        <matplotlib.axes._subplots.AxesSubplot object at 0x7f14c497f0f0>],\n",
              "       [<matplotlib.axes._subplots.AxesSubplot object at 0x7f14c49a6668>,\n",
              "        <matplotlib.axes._subplots.AxesSubplot object at 0x7f14c494dc18>,\n",
              "        <matplotlib.axes._subplots.AxesSubplot object at 0x7f14c494dc50>],\n",
              "       [<matplotlib.axes._subplots.AxesSubplot object at 0x7f14c4925710>,\n",
              "        <matplotlib.axes._subplots.AxesSubplot object at 0x7f14c48d0c88>,\n",
              "        <matplotlib.axes._subplots.AxesSubplot object at 0x7f14c487e240>]],\n",
              "      dtype=object)"
            ]
          },
          "metadata": {
            "tags": []
          },
          "execution_count": 16
        },
        {
          "output_type": "display_data",
          "data": {
            "image/png": "[encoded data removed]",
            "text/plain": [
              "<Figure size 1440x1080 with 12 Axes>"
            ]
          },
          "metadata": {
            "tags": []
          }
        }
      ]
    },
    {
      "metadata": {
        "id": "n_L41NgPOLhY",
        "colab_type": "text"
      },
      "cell_type": "markdown",
      "source": [
        "These histograms seem to corroborate the deductions made from 'train_set.describe()'. We can also see that there are more instances of deaths than survivial in the 'Survived' attribute and this will affect the training process. We also see that many attributes are tail heavy and  will have to be manipulated to a more bell shaped distribution"
      ]
    },
    {
      "metadata": {
        "id": "R_VqwgNhbC5i",
        "colab_type": "text"
      },
      "cell_type": "markdown",
      "source": [
        "\n",
        "### Data Exploration\n",
        "\n",
        "looking for correlations\n",
        "Experimenting with attribute combinations\n"
      ]
    },
    {
      "metadata": {
        "id": "A6Zrrh27dc2Q",
        "colab_type": "code",
        "outputId": "ff15f13b-7a8f-4b80-9a57-d34c5e76a18a",
        "colab": {
          "base_uri": "https://localhost:8080/",
          "height": 238
        }
      },
      "cell_type": "code",
      "source": [
        "corr_matrix = train_clean.corr()\n",
        "corr_matrix['Survived'].sort_values(ascending=False)"
      ],
      "execution_count": 17,
      "outputs": [
        {
          "output_type": "execute_result",
          "data": {
            "text/plain": [
              "Survived         1.000000\n",
              "Sex_female       0.543351\n",
              "Fare             0.257307\n",
              "Embarked_C       0.168240\n",
              "Parch            0.081629\n",
              "Embarked_Q       0.003650\n",
              "SibSp           -0.035322\n",
              "Age             -0.069809\n",
              "Embarked_S      -0.149683\n",
              "Embarked_Code   -0.167675\n",
              "Pclass          -0.338481\n",
              "Sex_male        -0.543351\n",
              "Name: Survived, dtype: float64"
            ]
          },
          "metadata": {
            "tags": []
          },
          "execution_count": 17
        }
      ]
    },
    {
      "metadata": {
        "id": "iPlRvoqDeZ--",
        "colab_type": "text"
      },
      "cell_type": "markdown",
      "source": [
        "There seems to be a weak correlation between the fare of a ticket and the survival of a passenger as well as a moderate negative correlation with the class of the passenger. Since both attributes relate to the financial commitment to the voyage it indicates that there may be a correlation for their financial standing. \n",
        "\n",
        "Surprisingly there seems to be no correlation with age even though the evacuation prioritised women and children. This relationship could be non-linear or may indeed be uncorrelated. A correlation with gender may appear after the 'Sex' attribute transformed.\n",
        "\n",
        "To better visualuse any non linear relationships we will plot the relations."
      ]
    },
    {
      "metadata": {
        "id": "4Y1tfzGBiHwX",
        "colab_type": "code",
        "colab": {
          "base_uri": "https://localhost:8080/",
          "height": 1610
        },
        "outputId": "d25143e7-c86c-458e-e82e-40eb018e4c5f"
      },
      "cell_type": "code",
      "source": [
        "from pandas.plotting import scatter_matrix\n",
        "\n",
        "attributes = ['Survived', 'Fare', 'Parch', 'SibSp', 'Age', 'Pclass', 'Sex_female', 'Sex_male']\n",
        "scatter_matrix(train_clean[attributes], figsize=(12,8))"
      ],
      "execution_count": 18,
      "outputs": [
        {
          "output_type": "execute_result",
          "data": {
            "text/plain": [
              "array([[<matplotlib.axes._subplots.AxesSubplot object at 0x7f14c220fb38>,\n",
              "        <matplotlib.axes._subplots.AxesSubplot object at 0x7f14c464a518>,\n",
              "        <matplotlib.axes._subplots.AxesSubplot object at 0x7f14c1fc79b0>,\n",
              "        <matplotlib.axes._subplots.AxesSubplot object at 0x7f14c1fd3f28>,\n",
              "        <matplotlib.axes._subplots.AxesSubplot object at 0x7f14c1ff44e0>,\n",
              "        <matplotlib.axes._subplots.AxesSubplot object at 0x7f14c1f9aa58>,\n",
              "        <matplotlib.axes._subplots.AxesSubplot object at 0x7f14c1f44fd0>,\n",
              "        <matplotlib.axes._subplots.AxesSubplot object at 0x7f14c1f745c0>],\n",
              "       [<matplotlib.axes._subplots.AxesSubplot object at 0x7f14c1f745f8>,\n",
              "        <matplotlib.axes._subplots.AxesSubplot object at 0x7f14c1ecf0b8>,\n",
              "        <matplotlib.axes._subplots.AxesSubplot object at 0x7f14c1ef5630>,\n",
              "        <matplotlib.axes._subplots.AxesSubplot object at 0x7f14c1e9eba8>,\n",
              "        <matplotlib.axes._subplots.AxesSubplot object at 0x7f14c1e4d160>,\n",
              "        <matplotlib.axes._subplots.AxesSubplot object at 0x7f14c1e766d8>,\n",
              "        <matplotlib.axes._subplots.AxesSubplot object at 0x7f14c1e1fc50>,\n",
              "        <matplotlib.axes._subplots.AxesSubplot object at 0x7f14c1dd1208>],\n",
              "       [<matplotlib.axes._subplots.AxesSubplot object at 0x7f14c1df7780>,\n",
              "        <matplotlib.axes._subplots.AxesSubplot object at 0x7f14c1da0cf8>,\n",
              "        <matplotlib.axes._subplots.AxesSubplot object at 0x7f14c1d4f2b0>,\n",
              "        <matplotlib.axes._subplots.AxesSubplot object at 0x7f14c1d79828>,\n",
              "        <matplotlib.axes._subplots.AxesSubplot object at 0x7f14c1d20da0>,\n",
              "        <matplotlib.axes._subplots.AxesSubplot object at 0x7f14c1cd1358>,\n",
              "        <matplotlib.axes._subplots.AxesSubplot object at 0x7f14c1cea5c0>,\n",
              "        <matplotlib.axes._subplots.AxesSubplot object at 0x7f14c1c91b38>],\n",
              "       [<matplotlib.axes._subplots.AxesSubplot object at 0x7f14c1c450f0>,\n",
              "        <matplotlib.axes._subplots.AxesSubplot object at 0x7f14c1c6b668>,\n",
              "        <matplotlib.axes._subplots.AxesSubplot object at 0x7f14c1c12be0>,\n",
              "        <matplotlib.axes._subplots.AxesSubplot object at 0x7f14c1bc4198>,\n",
              "        <matplotlib.axes._subplots.AxesSubplot object at 0x7f14c1bea710>,\n",
              "        <matplotlib.axes._subplots.AxesSubplot object at 0x7f14c1b94c88>,\n",
              "        <matplotlib.axes._subplots.AxesSubplot object at 0x7f14c1b45240>,\n",
              "        <matplotlib.axes._subplots.AxesSubplot object at 0x7f14c1b6a7b8>],\n",
              "       [<matplotlib.axes._subplots.AxesSubplot object at 0x7f14c1b12d30>,\n",
              "        <matplotlib.axes._subplots.AxesSubplot object at 0x7f14c1ac62e8>,\n",
              "        <matplotlib.axes._subplots.AxesSubplot object at 0x7f14c1aeb860>,\n",
              "        <matplotlib.axes._subplots.AxesSubplot object at 0x7f14c1a93dd8>,\n",
              "        <matplotlib.axes._subplots.AxesSubplot object at 0x7f14c1a47390>,\n",
              "        <matplotlib.axes._subplots.AxesSubplot object at 0x7f14c1a6e908>,\n",
              "        <matplotlib.axes._subplots.AxesSubplot object at 0x7f14c1a17e80>,\n",
              "        <matplotlib.axes._subplots.AxesSubplot object at 0x7f14c19c7438>],\n",
              "       [<matplotlib.axes._subplots.AxesSubplot object at 0x7f14c19ed9b0>,\n",
              "        <matplotlib.axes._subplots.AxesSubplot object at 0x7f14c1998f28>,\n",
              "        <matplotlib.axes._subplots.AxesSubplot object at 0x7f14c19494e0>,\n",
              "        <matplotlib.axes._subplots.AxesSubplot object at 0x7f14c1970a58>,\n",
              "        <matplotlib.axes._subplots.AxesSubplot object at 0x7f14c1917fd0>,\n",
              "        <matplotlib.axes._subplots.AxesSubplot object at 0x7f14c18c7588>,\n",
              "        <matplotlib.axes._subplots.AxesSubplot object at 0x7f14c18f1b00>,\n",
              "        <matplotlib.axes._subplots.AxesSubplot object at 0x7f14c18a00b8>],\n",
              "       [<matplotlib.axes._subplots.AxesSubplot object at 0x7f14c1849630>,\n",
              "        <matplotlib.axes._subplots.AxesSubplot object at 0x7f14c1871ba8>,\n",
              "        <matplotlib.axes._subplots.AxesSubplot object at 0x7f14c1822160>,\n",
              "        <matplotlib.axes._subplots.AxesSubplot object at 0x7f14c17cb6d8>,\n",
              "        <matplotlib.axes._subplots.AxesSubplot object at 0x7f14c17f3c50>,\n",
              "        <matplotlib.axes._subplots.AxesSubplot object at 0x7f14c17a4208>,\n",
              "        <matplotlib.axes._subplots.AxesSubplot object at 0x7f14c174c780>,\n",
              "        <matplotlib.axes._subplots.AxesSubplot object at 0x7f14c1772cf8>],\n",
              "       [<matplotlib.axes._subplots.AxesSubplot object at 0x7f14c17232b0>,\n",
              "        <matplotlib.axes._subplots.AxesSubplot object at 0x7f14c16cb828>,\n",
              "        <matplotlib.axes._subplots.AxesSubplot object at 0x7f14c16f3da0>,\n",
              "        <matplotlib.axes._subplots.AxesSubplot object at 0x7f14c16a5358>,\n",
              "        <matplotlib.axes._subplots.AxesSubplot object at 0x7f14c164c8d0>,\n",
              "        <matplotlib.axes._subplots.AxesSubplot object at 0x7f14c1674e48>,\n",
              "        <matplotlib.axes._subplots.AxesSubplot object at 0x7f14c1625400>,\n",
              "        <matplotlib.axes._subplots.AxesSubplot object at 0x7f14c15ce978>]],\n",
              "      dtype=object)"
            ]
          },
          "metadata": {
            "tags": []
          },
          "execution_count": 18
        },
        {
          "output_type": "display_data",
          "data": {
            "image/png": "[encoded data removed]",
            "text/plain": [
              "<Figure size 864x576 with 64 Axes>"
            ]
          },
          "metadata": {
            "tags": []
          }
        }
      ]
    },
    {
      "metadata": {
        "id": "IEU1PEl88kc2",
        "colab_type": "code",
        "outputId": "d1c0c7c6-e0ca-4104-eb1a-537937ea6250",
        "colab": {
          "base_uri": "https://localhost:8080/",
          "height": 238
        }
      },
      "cell_type": "code",
      "source": [
        "corr_matrix = train_clean.corr()\n",
        "corr_matrix['Survived'].sort_values(ascending=False)"
      ],
      "execution_count": 19,
      "outputs": [
        {
          "output_type": "execute_result",
          "data": {
            "text/plain": [
              "Survived         1.000000\n",
              "Sex_female       0.543351\n",
              "Fare             0.257307\n",
              "Embarked_C       0.168240\n",
              "Parch            0.081629\n",
              "Embarked_Q       0.003650\n",
              "SibSp           -0.035322\n",
              "Age             -0.069809\n",
              "Embarked_S      -0.149683\n",
              "Embarked_Code   -0.167675\n",
              "Pclass          -0.338481\n",
              "Sex_male        -0.543351\n",
              "Name: Survived, dtype: float64"
            ]
          },
          "metadata": {
            "tags": []
          },
          "execution_count": 19
        }
      ]
    },
    {
      "metadata": {
        "id": "OxJWLdTL9NkF",
        "colab_type": "text"
      },
      "cell_type": "markdown",
      "source": [
        "This increase the relationship to a weak correlation and should improve the overall reliability of this attribute."
      ]
    },
    {
      "metadata": {
        "id": "0bHeybcsPHJ0",
        "colab_type": "code",
        "outputId": "2bce4c4a-d6e7-455c-9cc3-42333774e1d2",
        "colab": {
          "base_uri": "https://localhost:8080/",
          "height": 306
        }
      },
      "cell_type": "code",
      "source": [
        "train_clean.info()\n"
      ],
      "execution_count": 20,
      "outputs": [
        {
          "output_type": "stream",
          "text": [
            "<class 'pandas.core.frame.DataFrame'>\n",
            "RangeIndex: 891 entries, 0 to 890\n",
            "Data columns (total 12 columns):\n",
            "Survived         891 non-null int64\n",
            "Pclass           891 non-null int64\n",
            "Age              891 non-null float64\n",
            "SibSp            891 non-null int64\n",
            "Parch            891 non-null int64\n",
            "Fare             891 non-null float64\n",
            "Embarked_Code    891 non-null int64\n",
            "Sex_female       891 non-null uint8\n",
            "Sex_male         891 non-null uint8\n",
            "Embarked_C       891 non-null uint8\n",
            "Embarked_Q       891 non-null uint8\n",
            "Embarked_S       891 non-null uint8\n",
            "dtypes: float64(2), int64(5), uint8(5)\n",
            "memory usage: 53.2 KB\n"
          ],
          "name": "stdout"
        }
      ]
    },
    {
      "metadata": {
        "id": "nXciBW_SmD00",
        "colab_type": "text"
      },
      "cell_type": "markdown",
      "source": [
        "## Model Selection\n",
        "### Model Exploration\n",
        "Now we will train and evaluate a selection of models on the training set. We use use ```cross_validate``` to score and shortlist an algorithm to optimise.\n",
        "\n"
      ]
    },
    {
      "metadata": {
        "id": "oZWCp4wxbwhH",
        "colab_type": "code",
        "colab": {}
      },
      "cell_type": "code",
      "source": [
        "titanic = np.array(train_clean.drop([\"Survived\"],1))\n",
        "titanic_labels = np.array(train_clean['Survived'])\n",
        "\n"
      ],
      "execution_count": 0,
      "outputs": []
    },
    {
      "metadata": {
        "id": "4b7bLxMQnytF",
        "colab_type": "code",
        "colab": {}
      },
      "cell_type": "code",
      "source": [
        "from sklearn import ensemble, linear_model, gaussian_process, naive_bayes, tree, discriminant_analysis, svm, neighbors, model_selection\n",
        "\n",
        "MLA = [\n",
        "    #Ensemble Methods\n",
        "    ensemble.AdaBoostClassifier(),\n",
        "    ensemble.BaggingClassifier(),\n",
        "    ensemble.ExtraTreesClassifier(),\n",
        "    ensemble.GradientBoostingClassifier(),\n",
        "    ensemble.RandomForestClassifier(),\n",
        "\n",
        "    #Gaussian Processes\n",
        "    gaussian_process.GaussianProcessClassifier(),\n",
        "    \n",
        "    #GLM\n",
        "    linear_model.LogisticRegressionCV(),\n",
        "    linear_model.PassiveAggressiveClassifier(),\n",
        "    linear_model.RidgeClassifierCV(),\n",
        "    linear_model.SGDClassifier(),\n",
        "    linear_model.Perceptron(),\n",
        "    \n",
        "    #Navies Bayes\n",
        "    naive_bayes.BernoulliNB(),\n",
        "    naive_bayes.GaussianNB(),\n",
        "    \n",
        "    #Nearest Neighbor\n",
        "    neighbors.KNeighborsClassifier(),\n",
        "    \n",
        "    #SVM\n",
        "    svm.SVC(probability=True),\n",
        "    svm.NuSVC(probability=True),\n",
        "    svm.LinearSVC(),\n",
        "    \n",
        "    #Trees    \n",
        "    tree.DecisionTreeClassifier(),\n",
        "    tree.ExtraTreeClassifier(),\n",
        "    \n",
        "    #Discriminant Analysis\n",
        "    discriminant_analysis.LinearDiscriminantAnalysis(),\n",
        "    discriminant_analysis.QuadraticDiscriminantAnalysis(),\n",
        "\n",
        "    \n",
        "    ]\n",
        "\n",
        "\n",
        "cv_split = model_selection.ShuffleSplit(n_splits = 10, test_size = .3, train_size = .6, random_state = 0 ) # run model 10x with 60/30 split intentionally leaving out 10%\n",
        "\n",
        "#create table to compare MLA metrics\n",
        "MLA_columns = ['MLA Name', 'MLA Parameters','MLA Train Accuracy Mean', 'MLA Test Accuracy Mean', 'MLA Test Accuracy 3*STD' ,'MLA Time']\n",
        "MLA_compare = pd.DataFrame(columns = MLA_columns)\n",
        "\n",
        "#create table to compare MLA predictions\n",
        "MLA_predict = titanic\n",
        "\n",
        "#index through MLA and save performance to table\n",
        "row_index = 0\n",
        "for alg in MLA:\n",
        "\n",
        "    #set name and parameters\n",
        "    MLA_name = alg.__class__.__name__\n",
        "    MLA_compare.loc[row_index, 'MLA Name'] = MLA_name\n",
        "    MLA_compare.loc[row_index, 'MLA Parameters'] = str(alg.get_params())\n",
        "    \n",
        "    \n",
        "    cv_results = model_selection.cross_validate(alg, titanic, titanic_labels, cv  = cv_split)\n",
        "\n",
        "    MLA_compare.loc[row_index, 'MLA Time'] = cv_results['fit_time'].mean()\n",
        "    MLA_compare.loc[row_index, 'MLA Train Accuracy Mean'] = cv_results['train_score'].mean()\n",
        "    MLA_compare.loc[row_index, 'MLA Test Accuracy Mean'] = cv_results['test_score'].mean()   \n",
        "    #if this is a non-bias random sample, then +/-3 standard deviations (std) from the mean, should statistically capture 99.7% of the subsets\n",
        "    MLA_compare.loc[row_index, 'MLA Test Accuracy 3*STD'] = cv_results['test_score'].std()*3   #let's know the worst that can happen!\n",
        "    \n",
        "\n",
        "    alg.fit(titanic, titanic_labels)\n",
        "    \n",
        "    row_index+=1\n",
        "\n",
        "    \n",
        "MLA_compare.sort_values(by = ['MLA Test Accuracy Mean'], ascending = False, inplace = True)\n",
        "MLA_compare"
      ],
      "execution_count": 0,
      "outputs": []
    },
    {
      "metadata": {
        "id": "ukvhE0HqDAoe",
        "colab_type": "code",
        "outputId": "3a2f6e3e-9754-45a9-e23a-d74b3d90186c",
        "colab": {
          "base_uri": "https://localhost:8080/",
          "height": 327
        }
      },
      "cell_type": "code",
      "source": [
        "import seaborn as sns\n",
        "\n",
        "sns.barplot(x='MLA Test Accuracy Mean', y = 'MLA Name', data = MLA_compare, color = 'b')\n",
        "\n",
        "plt.title('Machine Learning Algorithm Accuracy Score \\n')\n",
        "plt.xlabel('Accuracy Score (%)')\n",
        "plt.ylabel('Algorithm')"
      ],
      "execution_count": 23,
      "outputs": [
        {
          "output_type": "execute_result",
          "data": {
            "text/plain": [
              "Text(0, 0.5, 'Algorithm')"
            ]
          },
          "metadata": {
            "tags": []
          },
          "execution_count": 23
        },
        {
          "output_type": "display_data",
          "data": {
            "image/png": "[encoded data removed]",
            "text/plain": [
              "<Figure size 432x288 with 1 Axes>"
            ]
          },
          "metadata": {
            "tags": []
          }
        }
      ]
    },
    {
      "metadata": {
        "id": "J-ljCT3mEPSt",
        "colab_type": "text"
      },
      "cell_type": "markdown",
      "source": [
        "From the bar graph we can see that the Gradient Boosting Classifier performed best and would be the best suited model for predictions."
      ]
    }
  ]
}